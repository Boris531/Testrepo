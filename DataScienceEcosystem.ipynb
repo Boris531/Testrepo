{
 "cells": [
  {
   "cell_type": "code",
   "execution_count": null,
   "id": "b89192df-dd14-4b78-b22c-c94f663ca091",
   "metadata": {},
   "outputs": [],
   "source": []
  },
  {
   "cell_type": "markdown",
   "id": "fe2f43db-377f-43fa-9ca9-bdc78b63b35d",
   "metadata": {},
   "source": [
    "# Data Science Tools and Ecosystem"
   ]
  },
  {
   "cell_type": "markdown",
   "id": "2e00062e-a97d-4708-ad93-364f2e30be1e",
   "metadata": {},
   "source": [
    "# In this notebook, Data Science Tools and Ecosystems are summarized\n"
   ]
  },
  {
   "cell_type": "markdown",
   "id": "1b6ae89c-173e-448a-ad6f-ca5bcae81ff0",
   "metadata": {},
   "source": [
    "**Objectives:**\n",
    "\n",
    "- List popular languages for Data Science\n",
    "- List commonly used libraries in Data Science\n",
    "- Create tables in Markdown cells\n",
    "- Perform simple arithmetic operations in Python\n",
    "- convert minutes into hours using python expressions"
   ]
  },
  {
   "cell_type": "markdown",
   "id": "9bfba6a3-2abf-477d-94ae-5b401515292a",
   "metadata": {},
   "source": [
    "Some of the popular Data Science languages are:\n",
    "1. Julia\n",
    "2. R\n",
    "3. Python\n"
   ]
  },
  {
   "cell_type": "markdown",
   "id": "0e90bb75-410c-4773-a7d5-7f2191998197",
   "metadata": {},
   "source": [
    "Some of the commonly used libraries used  by Data Scientists include: \n",
    "1. Pandas\n",
    "2. Numbp\n",
    "3. Tensorflow"
   ]
  },
  {
   "cell_type": "markdown",
   "id": "e98dc991-9d56-4cd7-bfb9-7376192a9c3b",
   "metadata": {},
   "source": [
    "| Data Science Tools |\n",
    "|--------------------|\n",
    "| Jupyter Notebook   |\n",
    "| RStudio            |\n",
    "| VS Code            |"
   ]
  },
  {
   "cell_type": "markdown",
   "id": "f94a9818-8278-4190-9854-cef4ddc22ffe",
   "metadata": {},
   "source": [
    "### Below are a few examples of arithmetic expressions in Python"
   ]
  },
  {
   "cell_type": "code",
   "execution_count": 2,
   "id": "37598696-d9a3-4bf6-8f2b-6141eedb4380",
   "metadata": {},
   "outputs": [
    {
     "data": {
      "text/plain": [
       "12"
      ]
     },
     "execution_count": 2,
     "metadata": {},
     "output_type": "execute_result"
    }
   ],
   "source": [
    "\n",
    "(3+4)+5"
   ]
  },
  {
   "cell_type": "code",
   "execution_count": 3,
   "id": "d34dfd18-e9bb-4112-9644-0aa57e349a2d",
   "metadata": {},
   "outputs": [
    {
     "data": {
      "text/plain": [
       "3.3333333333333335"
      ]
     },
     "execution_count": 3,
     "metadata": {},
     "output_type": "execute_result"
    }
   ],
   "source": [
    "# this will convert 200 min to hours \n",
    "200 / 60"
   ]
  },
  {
   "cell_type": "markdown",
   "id": "41b21720-6eea-4fce-8e07-991c64905f63",
   "metadata": {},
   "source": [
    "## Boris"
   ]
  },
  {
   "cell_type": "code",
   "execution_count": null,
   "id": "adcefbe1-8c38-4560-ba2b-831b3bdcb2e2",
   "metadata": {},
   "outputs": [],
   "source": []
  }
 ],
 "metadata": {
  "kernelspec": {
   "display_name": "Python 3 (ipykernel)",
   "language": "python",
   "name": "python3"
  },
  "language_info": {
   "codemirror_mode": {
    "name": "ipython",
    "version": 3
   },
   "file_extension": ".py",
   "mimetype": "text/x-python",
   "name": "python",
   "nbconvert_exporter": "python",
   "pygments_lexer": "ipython3",
   "version": "3.12.8"
  }
 },
 "nbformat": 4,
 "nbformat_minor": 5
}
